{
 "cells": [
  {
   "cell_type": "code",
   "execution_count": 1,
   "metadata": {},
   "outputs": [],
   "source": [
    "import pandas as pd\n",
    "import seaborn as sns\n",
    "import matplotlib.pyplot as plt"
   ]
  },
  {
   "cell_type": "code",
   "execution_count": 2,
   "metadata": {},
   "outputs": [
    {
     "name": "stdout",
     "output_type": "stream",
     "text": [
      "   ID  Age  Salary  Gender Purchased\n",
      "0   1   25   50000    Male       Yes\n",
      "1   2   30   60000  Female        No\n",
      "2   3   35   75000  Female       Yes\n",
      "3   4   40   80000    Male        No\n",
      "4   5   29   54000    Male       Yes\n",
      "5   6   32   62000  Female        No\n"
     ]
    }
   ],
   "source": [
    "# Create the dataset\n",
    "data = {\n",
    "    'ID': [1, 2, 3, 4, 5, 6],\n",
    "    'Age': [25, 30, 35, 40, 29, 32],\n",
    "    'Salary': [50000, 60000, 75000, 80000, 54000, 62000],\n",
    "    'Gender': ['Male', 'Female', 'Female', 'Male', 'Male', 'Female'],\n",
    "    'Purchased': ['Yes', 'No', 'Yes', 'No', 'Yes', 'No']\n",
    "}\n",
    "df = pd.DataFrame(data)\n",
    "\n",
    "# Preview the data\n",
    "print(df)"
   ]
  },
  {
   "cell_type": "code",
   "execution_count": 3,
   "metadata": {},
   "outputs": [
    {
     "data": {
      "text/plain": [
       "ID            int64\n",
       "Age           int64\n",
       "Salary        int64\n",
       "Gender       object\n",
       "Purchased    object\n",
       "dtype: object"
      ]
     },
     "execution_count": 3,
     "metadata": {},
     "output_type": "execute_result"
    }
   ],
   "source": [
    "df.dtypes"
   ]
  },
  {
   "cell_type": "code",
   "execution_count": 4,
   "metadata": {},
   "outputs": [
    {
     "name": "stdout",
     "output_type": "stream",
     "text": [
      "Summary Statistics for Numerical Features:\n",
      "             Age       Salary\n",
      "count   6.000000      6.00000\n",
      "mean   31.833333  63500.00000\n",
      "std     5.192944  11760.10204\n",
      "min    25.000000  50000.00000\n",
      "25%    29.250000  55500.00000\n",
      "50%    31.000000  61000.00000\n",
      "75%    34.250000  71750.00000\n",
      "max    40.000000  80000.00000\n"
     ]
    }
   ],
   "source": [
    "print(\"Summary Statistics for Numerical Features:\")\n",
    "print(df[['Age', 'Salary']].describe())\n"
   ]
  }
 ],
 "metadata": {
  "kernelspec": {
   "display_name": ".venv",
   "language": "python",
   "name": "python3"
  },
  "language_info": {
   "codemirror_mode": {
    "name": "ipython",
    "version": 3
   },
   "file_extension": ".py",
   "mimetype": "text/x-python",
   "name": "python",
   "nbconvert_exporter": "python",
   "pygments_lexer": "ipython3",
   "version": "3.8.10"
  }
 },
 "nbformat": 4,
 "nbformat_minor": 2
}
