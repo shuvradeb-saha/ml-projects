{
 "cells": [
  {
   "cell_type": "code",
   "execution_count": 1,
   "metadata": {},
   "outputs": [
    {
     "name": "stderr",
     "output_type": "stream",
     "text": [
      "2024-12-27 15:38:05.244186: I tensorflow/tsl/cuda/cudart_stub.cc:28] Could not find cuda drivers on your machine, GPU will not be used.\n",
      "2024-12-27 15:38:05.376980: I tensorflow/tsl/cuda/cudart_stub.cc:28] Could not find cuda drivers on your machine, GPU will not be used.\n",
      "2024-12-27 15:38:05.379109: I tensorflow/core/platform/cpu_feature_guard.cc:182] This TensorFlow binary is optimized to use available CPU instructions in performance-critical operations.\n",
      "To enable the following instructions: AVX2 FMA, in other operations, rebuild TensorFlow with the appropriate compiler flags.\n",
      "2024-12-27 15:38:07.115103: W tensorflow/compiler/tf2tensorrt/utils/py_utils.cc:38] TF-TRT Warning: Could not find TensorRT\n",
      "2024-12-27 15:38:09.896723: I tensorflow/compiler/xla/stream_executor/cuda/cuda_gpu_executor.cc:995] successful NUMA node read from SysFS had negative value (-1), but there must be at least one NUMA node, so returning NUMA node zero. See more at https://github.com/torvalds/linux/blob/v6.0/Documentation/ABI/testing/sysfs-bus-pci#L344-L355\n",
      "2024-12-27 15:38:09.897771: W tensorflow/core/common_runtime/gpu/gpu_device.cc:1960] Cannot dlopen some GPU libraries. Please make sure the missing libraries mentioned above are installed properly if you would like to use GPU. Follow the guide at https://www.tensorflow.org/install/gpu for how to download and setup the required libraries for your platform.\n",
      "Skipping registering GPU devices...\n"
     ]
    },
    {
     "name": "stdout",
     "output_type": "stream",
     "text": [
      "4/4 [==============================] - 0s 1ms/step\n",
      "1/1 [==============================] - 0s 16ms/step\n",
      "Hybrid Model Accuracy: 1.0\n"
     ]
    }
   ],
   "source": [
    "from sklearn.datasets import load_iris\n",
    "from sklearn.model_selection import train_test_split\n",
    "from sklearn.ensemble import RandomForestClassifier\n",
    "from sklearn.metrics import accuracy_score\n",
    "from sklearn.pipeline import make_pipeline\n",
    "from sklearn.preprocessing import FunctionTransformer, StandardScaler\n",
    "from tensorflow.keras.models import Model, Sequential\n",
    "from tensorflow.keras.layers import Dense, Input\n",
    "import numpy as np\n",
    "\n",
    "# Load Iris dataset\n",
    "iris = load_iris()\n",
    "X, y = iris.data, iris.target\n",
    "\n",
    "# Split the dataset into train and test sets\n",
    "x_train, x_test, y_train, y_test = train_test_split(X, y, test_size=0.2, random_state=42)\n",
    "\n",
    "# Normalize the input data for the neural network\n",
    "scaler = StandardScaler()\n",
    "x_train_scaled = scaler.fit_transform(x_train)\n",
    "x_test_scaled = scaler.transform(x_test)\n",
    "\n",
    "# Neural network for feature extraction\n",
    "input_layer = Input(shape=(4,))  # Iris dataset has 4 features\n",
    "hidden_layer = Dense(8, activation='relu', name='feature_layer')(input_layer)\n",
    "output_layer = Dense(3, activation='softmax')(hidden_layer)  # 3 classes in Iris dataset\n",
    "\n",
    "nn_model = Model(inputs=input_layer, outputs=output_layer)\n",
    "\n",
    "# Compile and train the neural network\n",
    "nn_model.compile(optimizer='adam', loss='sparse_categorical_crossentropy', metrics=['accuracy'])\n",
    "nn_model.fit(x_train_scaled, y_train, epochs=50, batch_size=8, verbose=0)\n",
    "\n",
    "# Create a feature extractor model\n",
    "feature_extractor = Model(inputs=nn_model.input, outputs=nn_model.get_layer('feature_layer').output)\n",
    "\n",
    "def extract_features(X):\n",
    "    \"\"\"Transforms input data into features using the trained NN.\"\"\"\n",
    "    return feature_extractor.predict(X)\n",
    "\n",
    "# Create a pipeline for the hybrid model\n",
    "hybrid_model = make_pipeline(\n",
    "    FunctionTransformer(extract_features),  # Feature extraction using NN\n",
    "    RandomForestClassifier(random_state=42)  # Classification using RF\n",
    ")\n",
    "\n",
    "# Train the hybrid model\n",
    "hybrid_model.fit(x_train_scaled, y_train)\n",
    "\n",
    "# Evaluate the hybrid model\n",
    "y_pred = hybrid_model.predict(x_test_scaled)\n",
    "print(\"Hybrid Model Accuracy:\", accuracy_score(y_test, y_pred))\n"
   ]
  }
 ],
 "metadata": {
  "kernelspec": {
   "display_name": ".venv",
   "language": "python",
   "name": "python3"
  },
  "language_info": {
   "codemirror_mode": {
    "name": "ipython",
    "version": 3
   },
   "file_extension": ".py",
   "mimetype": "text/x-python",
   "name": "python",
   "nbconvert_exporter": "python",
   "pygments_lexer": "ipython3",
   "version": "3.8.10"
  }
 },
 "nbformat": 4,
 "nbformat_minor": 2
}
